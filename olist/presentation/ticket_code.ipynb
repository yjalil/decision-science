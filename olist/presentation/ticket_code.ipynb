{
 "cells": [
  {
   "cell_type": "code",
   "execution_count": 1,
   "metadata": {},
   "outputs": [],
   "source": [
    "import pandas as pd\n",
    "from olist.order import Order\n",
    "from olist.data import Olist\n",
    "from olist.utils import haversine_distance"
   ]
  },
  {
   "cell_type": "code",
   "execution_count": 2,
   "metadata": {},
   "outputs": [
    {
     "ename": "",
     "evalue": "",
     "output_type": "error",
     "traceback": [
      "\u001b[1;31mThe Kernel crashed while executing code in the current cell or a previous cell. \n",
      "\u001b[1;31mPlease review the code in the cell(s) to identify a possible cause of the failure. \n",
      "\u001b[1;31mClick <a href='https://aka.ms/vscodeJupyterKernelCrash'>here</a> for more info. \n",
      "\u001b[1;31mView Jupyter <a href='command:jupyter.viewOutput'>log</a> for further details."
     ]
    }
   ],
   "source": [
    "olist = Olist().get_data()\n",
    "orders = olist['orders']\n",
    "sellers = olist['sellers']\n",
    "items = olist['order_items']\n",
    "geolocations = olist['geolocation']\n",
    "customers = olist['customers']"
   ]
  },
  {
   "cell_type": "code",
   "execution_count": 3,
   "metadata": {},
   "outputs": [],
   "source": [
    "#Selectionner que les colonnes dont on aura besoin\n",
    "orders_df=orders[['order_id','customer_id']]\n",
    "sellers_df=sellers[['seller_id','seller_zip_code_prefix']]\n",
    "items_df=items[['order_id','seller_id']]\n",
    "geolocations_df=geolocations[['geolocation_zip_code_prefix','geolocation_lat','geolocation_lng']].drop_duplicates()\n",
    "\n",
    "# Joindre les DataFrames sur les colonnes communes\n",
    "customers_geolocation = customers.merge(geolocations_df, left_on='customer_zip_code_prefix', right_on='geolocation_zip_code_prefix')\n",
    "sellers_geolocation = sellers_df.merge(geolocations_df, left_on='seller_zip_code_prefix', right_on='geolocation_zip_code_prefix')\n",
    "#Fusionner items avec les informations des vendeurs et clients géolocalisés\n",
    "merged_data2=orders_df.merge(customers_geolocation, on='customer_id')\n",
    "merged_data = items_df.merge(sellers_geolocation, on='seller_id').merge(merged_data2, on='order_id')\n",
    "# Calculer la distance directement dans la méthode apply\n",
    "merged_data['distance_seller_customer'] = merged_data.apply(lambda row: haversine_distance(\n",
    "   row['geolocation_lng_customer'], row['geolocation_lat_customer'], row['geolocation_lng_seller'], row['geolocation_lat_seller']), axis=1)\n",
    "# Créer une nouvelle DataFrame avec les distances par order_id\n",
    "distance_df = merged_data[['order_id', 'distance_seller_customer']]"
   ]
  },
  {
   "cell_type": "code",
   "execution_count": null,
   "metadata": {},
   "outputs": [],
   "source": []
  }
 ],
 "metadata": {
  "kernelspec": {
   "display_name": "olist",
   "language": "python",
   "name": "python3"
  },
  "language_info": {
   "codemirror_mode": {
    "name": "ipython",
    "version": 3
   },
   "file_extension": ".py",
   "mimetype": "text/x-python",
   "name": "python",
   "nbconvert_exporter": "python",
   "pygments_lexer": "ipython3",
   "version": "3.11.5"
  }
 },
 "nbformat": 4,
 "nbformat_minor": 2
}
